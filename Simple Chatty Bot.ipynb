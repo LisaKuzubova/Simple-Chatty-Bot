{
 "cells": [
  {
   "cell_type": "code",
   "execution_count": null,
   "id": "b25c10bd",
   "metadata": {},
   "outputs": [
    {
     "name": "stdout",
     "output_type": "stream",
     "text": [
      "Hello! My name is Funbot.\n",
      "I was created in 2023.\n",
      "Please, remind me your name.\n"
     ]
    }
   ],
   "source": [
    "def greet(bot_name, birth_year):\n",
    "    print('Hello! My name is ' + bot_name + '.')\n",
    "    print('I was created in ' + birth_year + '.')\n",
    "\n",
    "\n",
    "def your_name():\n",
    "    print('Please, remind me your name.')\n",
    "    name = input()\n",
    "    print('What a great name you have, ' + name + '!')\n",
    "\n",
    "\n",
    "def guess_age():\n",
    "    print('Let me guess your age.')\n",
    "    print('Enter remainders of dividing your age by 3, 5 and 7.')\n",
    "\n",
    "    rem3 = int(input())\n",
    "    rem5 = int(input())\n",
    "    rem7 = int(input())\n",
    "    age = (rem3 * 70 + rem5 * 21 + rem7 * 15) % 105\n",
    "\n",
    "    print(\"Your age is \" + str(age) + \"; that's a good time to start programming!\")\n",
    "\n",
    "\n",
    "def count():\n",
    "    print('Now I will prove to you that I can count to any number you want.')\n",
    "\n",
    "    num = int(input())\n",
    "    curr = 0\n",
    "    while curr <= num:\n",
    "        print(curr, '!')\n",
    "        curr = curr + 1\n",
    "\n",
    "\n",
    "def test():\n",
    "    print(\"Let's test your programming knowledge.\")\n",
    "    print('Why do we use methods?')\n",
    "    print('1. To repeat a statement multiple times.')\n",
    "    print('2. To decompose a program into several small subroutines.')\n",
    "    print('3. To determine the execution time of a program.')\n",
    "    print('4. To interrupt the execution of a program.')\n",
    "    answer = int(input())\n",
    "    while answer != 2:\n",
    "        print('Please, try again.')\n",
    "        answer = int(input())\n",
    "\n",
    "\n",
    "def end():\n",
    "    print('Congratulations, have a nice day!')\n",
    "\n",
    "\n",
    "greet('Funbot', '2023')\n",
    "your_name()\n",
    "guess_age()\n",
    "count()\n",
    "test()\n",
    "end()\n"
   ]
  },
  {
   "cell_type": "code",
   "execution_count": null,
   "id": "54081000",
   "metadata": {},
   "outputs": [],
   "source": []
  }
 ],
 "metadata": {
  "kernelspec": {
   "display_name": "Python 3 (ipykernel)",
   "language": "python",
   "name": "python3"
  },
  "language_info": {
   "codemirror_mode": {
    "name": "ipython",
    "version": 3
   },
   "file_extension": ".py",
   "mimetype": "text/x-python",
   "name": "python",
   "nbconvert_exporter": "python",
   "pygments_lexer": "ipython3",
   "version": "3.9.12"
  }
 },
 "nbformat": 4,
 "nbformat_minor": 5
}
